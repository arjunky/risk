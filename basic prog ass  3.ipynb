{
 "cells": [
  {
   "cell_type": "code",
   "execution_count": 10,
   "metadata": {},
   "outputs": [
    {
     "name": "stdout",
     "output_type": "stream",
     "text": [
      "enter a number= -30\n",
      "Number is negative\n"
     ]
    }
   ],
   "source": [
    "#Q1\n",
    "a=int(input('enter a number= '))\n",
    "\n",
    "if a>0:\n",
    "    print('Number is positive')\n",
    "elif a==0:\n",
    "    print('Number is zero')\n",
    "else:\n",
    "    print('Number is negative')\n"
   ]
  },
  {
   "cell_type": "code",
   "execution_count": 14,
   "metadata": {},
   "outputs": [
    {
     "name": "stdout",
     "output_type": "stream",
     "text": [
      "enter a number= 23\n",
      "Odd Number\n"
     ]
    }
   ],
   "source": [
    "#Q2\n",
    "a=int(input('enter a number= '))\n",
    "\n",
    "if a == 0:\n",
    "    print('Even Number')\n",
    "elif a%2 == 0:\n",
    "    print('Even Number')\n",
    "else:\n",
    "    print('Odd Number')"
   ]
  },
  {
   "cell_type": "code",
   "execution_count": 16,
   "metadata": {},
   "outputs": [
    {
     "name": "stdout",
     "output_type": "stream",
     "text": [
      "Enter Year: 2021\n",
      "not a leap year\n"
     ]
    }
   ],
   "source": [
    "#Q3\n",
    "\n",
    "year=int(input('Enter Year: '))\n",
    "\n",
    "if year % 4 == 0 and year % 100  != 0:\n",
    "    print(\"leap year\")\n",
    "elif year % 100 == 0:\n",
    "    print('not a leap year')\n",
    "elif year % 400 == 0:\n",
    "    print(\"leap year\")\n",
    "else:\n",
    "    print('not a leap year')\n"
   ]
  },
  {
   "cell_type": "code",
   "execution_count": 41,
   "metadata": {},
   "outputs": [
    {
     "name": "stdout",
     "output_type": "stream",
     "text": [
      "Enter a nuber= 9\n",
      "Not a Prime Number\n"
     ]
    }
   ],
   "source": [
    "#Q4\n",
    "\n",
    "n=int(input('Enter a nuber= '))\n",
    "\n",
    "if n >= 2:\n",
    "    for i in range(2,n):\n",
    "        if n%i == 0:\n",
    "            print('Not a Prime Number')\n",
    "            break\n",
    "    else:\n",
    "        print('Prime Number')"
   ]
  },
  {
   "cell_type": "code",
   "execution_count": null,
   "metadata": {},
   "outputs": [],
   "source": [
    "#Q5\n",
    "\n",
    "for i in range(1,10000):\n",
    "    for j in range(2,i):\n",
    "        if i % j == 0:\n",
    "            break\n",
    "        else:\n",
    "            print(i)\n",
    "            break\n",
    "            "
   ]
  },
  {
   "cell_type": "code",
   "execution_count": null,
   "metadata": {},
   "outputs": [],
   "source": []
  },
  {
   "cell_type": "code",
   "execution_count": null,
   "metadata": {},
   "outputs": [],
   "source": []
  }
 ],
 "metadata": {
  "kernelspec": {
   "display_name": "Python 3",
   "language": "python",
   "name": "python3"
  },
  "language_info": {
   "codemirror_mode": {
    "name": "ipython",
    "version": 3
   },
   "file_extension": ".py",
   "mimetype": "text/x-python",
   "name": "python",
   "nbconvert_exporter": "python",
   "pygments_lexer": "ipython3",
   "version": "3.8.5"
  }
 },
 "nbformat": 4,
 "nbformat_minor": 4
}
