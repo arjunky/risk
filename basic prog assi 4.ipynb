{
 "cells": [
  {
   "cell_type": "code",
   "execution_count": null,
   "metadata": {},
   "outputs": [],
   "source": [
    "#Q1\n",
    "\n",
    "n=int(input('Enter a positive number = '))\n",
    "\n",
    "factorial = 1\n",
    "\n",
    "for i in range(1,n+1):\n",
    "    factorial = factorial * i\n",
    "print('factorial of ',n,' is',factorial )"
   ]
  },
  {
   "cell_type": "code",
   "execution_count": 2,
   "metadata": {},
   "outputs": [
    {
     "name": "stdout",
     "output_type": "stream",
     "text": [
      "Enter a Number12\n",
      "12  x  1  =  12\n",
      "12  x  2  =  24\n",
      "12  x  3  =  36\n",
      "12  x  4  =  48\n",
      "12  x  5  =  60\n",
      "12  x  6  =  72\n",
      "12  x  7  =  84\n",
      "12  x  8  =  96\n",
      "12  x  9  =  108\n",
      "12  x  10  =  120\n"
     ]
    }
   ],
   "source": [
    "#Q2\n",
    "\n",
    "n=int(input('Enter a Number'))\n",
    "\n",
    "for i in range(1,11):\n",
    "    print(n,' x ',i,' = ',n*i)"
   ]
  },
  {
   "cell_type": "code",
   "execution_count": null,
   "metadata": {},
   "outputs": [],
   "source": [
    "#Q3\n",
    "\n",
    "nterms = int(input(\"How many terms you want? \"))  \n",
    " \n",
    "n1 = 0  \n",
    "n2 = 1  \n",
    "count = 2  \n",
    "\n",
    "if nterms <= 0:  \n",
    "   print(\"Plese enter a positive integer\")  \n",
    "elif nterms == 1:  \n",
    "   print(\"Fibonacci sequence:\")  \n",
    "   print(n1)  \n",
    "else:  \n",
    "   print(\"Fibonacci sequence:\")  \n",
    "   print(n1,\",\",n2,end=', ')  \n",
    "   while count < nterms:  \n",
    "       nth = n1 + n2  \n",
    "       print(nth,end=' , ')  \n",
    "       n1 = n2  \n",
    "       n2 = nth  \n",
    "       count += 1  "
   ]
  },
  {
   "cell_type": "code",
   "execution_count": null,
   "metadata": {},
   "outputs": [],
   "source": [
    "#Q4\n",
    "\n",
    "num = int(input(\"Enter the number: \")) \n",
    "sum = 0 \n",
    "temp = num \n",
    "while (temp > 0): \n",
    "    digit = temp % 10 \n",
    "    sum += digit ** 3 \n",
    "    temp //= 10 \n",
    "if (num == sum): \n",
    "    print(\"Armstrong number\") \n",
    "else: \n",
    "    print(\"Not an Armstrong number\")\n"
   ]
  },
  {
   "cell_type": "code",
   "execution_count": null,
   "metadata": {},
   "outputs": [],
   "source": [
    "#Q5\n",
    "\n",
    "lower = int(input(\"Enter lower range: \"))  \n",
    "upper = int(input(\"Enter upper range: \"))  \n",
    "  \n",
    "for num in range(lower,upper + 1):  \n",
    "   sum = 0  \n",
    "   temp = num  \n",
    "   while temp > 0:  \n",
    "       digit = temp % 10  \n",
    "       sum += digit ** 3  \n",
    "       temp //= 10  \n",
    "       if num == sum:  \n",
    "            print(num)  \n"
   ]
  },
  {
   "cell_type": "code",
   "execution_count": null,
   "metadata": {},
   "outputs": [],
   "source": [
    "#Q6\n",
    "\n",
    "num = 16\n",
    "\n",
    "if num < 0:\n",
    "   print(\"Enter a positive number\")\n",
    "else:\n",
    "   sum = 0\n",
    "   while(num > 0):\n",
    "       sum = sum + num\n",
    "       num = num - 1\n",
    "   print(\"The sum is\", sum)"
   ]
  },
  {
   "cell_type": "code",
   "execution_count": null,
   "metadata": {},
   "outputs": [],
   "source": []
  }
 ],
 "metadata": {
  "kernelspec": {
   "display_name": "Python 3",
   "language": "python",
   "name": "python3"
  },
  "language_info": {
   "codemirror_mode": {
    "name": "ipython",
    "version": 3
   },
   "file_extension": ".py",
   "mimetype": "text/x-python",
   "name": "python",
   "nbconvert_exporter": "python",
   "pygments_lexer": "ipython3",
   "version": "3.8.5"
  }
 },
 "nbformat": 4,
 "nbformat_minor": 4
}
