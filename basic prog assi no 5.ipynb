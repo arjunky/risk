{
 "cells": [
  {
   "cell_type": "code",
   "execution_count": 5,
   "metadata": {},
   "outputs": [
    {
     "name": "stdout",
     "output_type": "stream",
     "text": [
      "Enter the first number = 2\n",
      "Enter the second number = 3\n",
      "6\n"
     ]
    }
   ],
   "source": [
    "#Q1 To find LCM of two numbers\n",
    "\n",
    "num1 = int(input('Enter the first number = '))\n",
    "num2 = int(input('Enter the second number = '))\n",
    "\n",
    "if num1 > num2:\n",
    "    max = num1\n",
    "else:\n",
    "    max = num2\n",
    "    \n",
    "while(True):\n",
    "    if (max % num1 == 0 and max % num2 == 0):\n",
    "        print(max)\n",
    "        break;\n",
    "    max = max + 1   "
   ]
  },
  {
   "cell_type": "code",
   "execution_count": 6,
   "metadata": {},
   "outputs": [
    {
     "name": "stdout",
     "output_type": "stream",
     "text": [
      "Enter first number = 25\n",
      "Enter second number =30\n",
      "HCF of 25  &  30  is  5\n"
     ]
    }
   ],
   "source": [
    "#Q2 To find HCF of two numbers\n",
    "\n",
    "import math as ma\n",
    "\n",
    "num1 = int(input('Enter first number = '))\n",
    "num2 = int(input('Enter second number ='))\n",
    "\n",
    "print('HCF of',num1,' & ',num2,' is ',ma.gcd(num1,num2))"
   ]
  },
  {
   "cell_type": "code",
   "execution_count": 12,
   "metadata": {},
   "outputs": [
    {
     "name": "stdout",
     "output_type": "stream",
     "text": [
      "Enter a number = 2\n",
      "Value of  2  in binary is  0b10\n",
      "Value of  2  in octadecimal is  0o2\n",
      "Value of  2  in hexadecimal is  0x2\n"
     ]
    }
   ],
   "source": [
    "#Q3 Progrm to convert a decimal number into binary,octa & hexadecimal\n",
    "\n",
    "a = int(input('Enter a number = '))\n",
    "\n",
    "print('Value of ',a,' in binary is ',bin(a))\n",
    "print('Value of ',a,' in octadecimal is ',oct(a))\n",
    "print('Value of ',a,' in hexadecimal is ',hex(a))"
   ]
  },
  {
   "cell_type": "code",
   "execution_count": 11,
   "metadata": {},
   "outputs": [
    {
     "name": "stdout",
     "output_type": "stream",
     "text": [
      "Enter a character = b\n",
      "ASCII value of  b  is  98\n"
     ]
    }
   ],
   "source": [
    "#Q4 Program to find ASCII value of a character\n",
    "\n",
    "ch = input('Enter a character = ')\n",
    "\n",
    "print('ASCII value of ',ch,' is ',ord(ch))"
   ]
  },
  {
   "cell_type": "code",
   "execution_count": 13,
   "metadata": {},
   "outputs": [
    {
     "name": "stdout",
     "output_type": "stream",
     "text": [
      "Please select operation -\n",
      "1. Add\n",
      "2. Subtract\n",
      "3. Multiply\n",
      "4. Divide\n",
      "\n",
      "Select operations form 1, 2, 3, 4 :3\n",
      "Enter first number: 2\n",
      "Enter second number: 6\n",
      "2 * 6 = 12\n"
     ]
    }
   ],
   "source": [
    "#Q4 Program to make a simple calculator\n",
    "\n",
    "\n",
    "def add(num1, num2):\n",
    "    return num1 + num2\n",
    "  \n",
    "def subtract(num1, num2):\n",
    "    return num1 - num2\n",
    "  \n",
    "def multiply(num1, num2):\n",
    "    return num1 * num2\n",
    "  \n",
    "def divide(num1, num2):\n",
    "    return num1 / num2\n",
    "  \n",
    "print(\"Please select operation -\\n\" \\\n",
    "        \"1. Add\\n\" \\\n",
    "        \"2. Subtract\\n\" \\\n",
    "        \"3. Multiply\\n\" \\\n",
    "        \"4. Divide\\n\")\n",
    "  \n",
    "  \n",
    "select = int(input(\"Select operations form 1, 2, 3, 4 :\"))\n",
    "  \n",
    "number_1 = int(input(\"Enter first number: \"))\n",
    "number_2 = int(input(\"Enter second number: \"))\n",
    "  \n",
    "if select == 1:\n",
    "    print(number_1, \"+\", number_2, \"=\",\n",
    "                    add(number_1, number_2))\n",
    "  \n",
    "elif select == 2:\n",
    "    print(number_1, \"-\", number_2, \"=\",\n",
    "                    subtract(number_1, number_2))\n",
    "  \n",
    "elif select == 3:\n",
    "    print(number_1, \"*\", number_2, \"=\",\n",
    "                    multiply(number_1, number_2))\n",
    "  \n",
    "elif select == 4:\n",
    "    print(number_1, \"/\", number_2, \"=\",\n",
    "                    divide(number_1, number_2))\n",
    "else:\n",
    "    print(\"Invalid input\")"
   ]
  },
  {
   "cell_type": "code",
   "execution_count": null,
   "metadata": {},
   "outputs": [],
   "source": []
  }
 ],
 "metadata": {
  "kernelspec": {
   "display_name": "Python 3",
   "language": "python",
   "name": "python3"
  },
  "language_info": {
   "codemirror_mode": {
    "name": "ipython",
    "version": 3
   },
   "file_extension": ".py",
   "mimetype": "text/x-python",
   "name": "python",
   "nbconvert_exporter": "python",
   "pygments_lexer": "ipython3",
   "version": "3.8.5"
  }
 },
 "nbformat": 4,
 "nbformat_minor": 4
}
