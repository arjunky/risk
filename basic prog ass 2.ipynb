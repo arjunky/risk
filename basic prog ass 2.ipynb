{
 "cells": [
  {
   "cell_type": "code",
   "execution_count": 1,
   "metadata": {},
   "outputs": [
    {
     "name": "stdout",
     "output_type": "stream",
     "text": [
      "enter value in kilometers:10\n",
      "Result after converting kilometers into miles:  6.215040397762586\n"
     ]
    }
   ],
   "source": [
    "#Q1\n",
    "a=int(input('enter value in kilometers:'))\n",
    "\n",
    "print('Result after converting kilometers into miles: ',a/1.609)"
   ]
  },
  {
   "cell_type": "code",
   "execution_count": 2,
   "metadata": {},
   "outputs": [
    {
     "name": "stdout",
     "output_type": "stream",
     "text": [
      "enter temperature in celcius: 33\n",
      "Temperature in faranheit: 91.4\n"
     ]
    }
   ],
   "source": [
    "#Q2\n",
    "a=int(input('enter temperature in celcius: '))\n",
    "\n",
    "print('Temperature in faranheit:',(a*9/5)+32)"
   ]
  },
  {
   "cell_type": "code",
   "execution_count": 1,
   "metadata": {},
   "outputs": [
    {
     "name": "stdout",
     "output_type": "stream",
     "text": [
      "input year:2020\n",
      "input month in numbers:11\n",
      "   November 2020\n",
      "Mo Tu We Th Fr Sa Su\n",
      "                   1\n",
      " 2  3  4  5  6  7  8\n",
      " 9 10 11 12 13 14 15\n",
      "16 17 18 19 20 21 22\n",
      "23 24 25 26 27 28 29\n",
      "30\n",
      "\n"
     ]
    }
   ],
   "source": [
    "#Q3\n",
    "\n",
    "import calendar\n",
    "\n",
    "year=int(input('input year:'))\n",
    "month=int(input('input month in numbers:'))\n",
    "\n",
    "print(calendar.month(year,month))\n"
   ]
  },
  {
   "cell_type": "code",
   "execution_count": 2,
   "metadata": {},
   "outputs": [
    {
     "name": "stdout",
     "output_type": "stream",
     "text": [
      "enter the first variable:10\n",
      "enter the second variable:11\n",
      "result after swapping the variables= 11 10\n"
     ]
    }
   ],
   "source": [
    "#Q5\n",
    "a=int(input('enter the first variable:'))\n",
    "b=int(input('enter the second variable:'))\n",
    "\n",
    "a,b=b,a\n",
    "print('result after swapping the variables=',a,b)"
   ]
  },
  {
   "cell_type": "code",
   "execution_count": null,
   "metadata": {},
   "outputs": [],
   "source": []
  }
 ],
 "metadata": {
  "kernelspec": {
   "display_name": "Python 3",
   "language": "python",
   "name": "python3"
  },
  "language_info": {
   "codemirror_mode": {
    "name": "ipython",
    "version": 3
   },
   "file_extension": ".py",
   "mimetype": "text/x-python",
   "name": "python",
   "nbconvert_exporter": "python",
   "pygments_lexer": "ipython3",
   "version": "3.8.5"
  }
 },
 "nbformat": 4,
 "nbformat_minor": 4
}
