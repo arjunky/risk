{
 "cells": [
  {
   "cell_type": "code",
   "execution_count": 1,
   "metadata": {},
   "outputs": [
    {
     "name": "stdout",
     "output_type": "stream",
     "text": [
      "\"Hello Python\"\n"
     ]
    }
   ],
   "source": [
    "#Q1\n",
    "print('\"Hello Python\"')"
   ]
  },
  {
   "cell_type": "code",
   "execution_count": 9,
   "metadata": {},
   "outputs": [
    {
     "name": "stdout",
     "output_type": "stream",
     "text": [
      "enter first number:10\n",
      "enter second number:2\n",
      "enter the operator ( + ) or ( / )/\n",
      "10 / 2 = 5.0\n"
     ]
    }
   ],
   "source": [
    "#Q2\n",
    "x=int(input(\"enter first number:\"))\n",
    "y=int(input('enter second number:'))\n",
    "o=input('enter the operator ( + ) or ( / )')\n",
    "result=0\n",
    "\n",
    "if o == \"+\":\n",
    "    result = x + y\n",
    "elif o == \"/\":\n",
    "    result = x/y\n",
    "else:\n",
    "    print('invalid entry')\n",
    "    \n",
    "print(x,o,y,\"=\",result)    \n",
    "        \n",
    "    \n",
    "\n"
   ]
  },
  {
   "cell_type": "code",
   "execution_count": 8,
   "metadata": {},
   "outputs": [
    {
     "name": "stdout",
     "output_type": "stream",
     "text": [
      "height of triangle:3\n",
      "base of triangle2\n",
      "area of triangle: 3.0\n"
     ]
    }
   ],
   "source": [
    "#Q3\n",
    "h=int(input('height of triangle:'))\n",
    "b=int(input('base of triangle'))\n",
    "\n",
    "print('area of triangle:',0.5*b*h)\n"
   ]
  },
  {
   "cell_type": "code",
   "execution_count": 12,
   "metadata": {},
   "outputs": [
    {
     "name": "stdout",
     "output_type": "stream",
     "text": [
      "enter the first variable:6\n",
      "enter the second variable:10\n",
      "result after swappinf a & b: 10 6\n"
     ]
    }
   ],
   "source": [
    "#Q4\n",
    "a=int(input('enter the first variable:'))\n",
    "b=int(input('enter the second variable:'))\n",
    "\n",
    "a,b = b,a\n",
    "print(\"result after swapping a & b:\",a,b)"
   ]
  },
  {
   "cell_type": "code",
   "execution_count": 14,
   "metadata": {},
   "outputs": [
    {
     "name": "stdout",
     "output_type": "stream",
     "text": [
      "0.4258834501475267\n"
     ]
    }
   ],
   "source": [
    "#Q5\n",
    "import random\n",
    "n=random.random()\n",
    "print(n)"
   ]
  },
  {
   "cell_type": "code",
   "execution_count": null,
   "metadata": {},
   "outputs": [],
   "source": []
  }
 ],
 "metadata": {
  "kernelspec": {
   "display_name": "Python 3",
   "language": "python",
   "name": "python3"
  },
  "language_info": {
   "codemirror_mode": {
    "name": "ipython",
    "version": 3
   },
   "file_extension": ".py",
   "mimetype": "text/x-python",
   "name": "python",
   "nbconvert_exporter": "python",
   "pygments_lexer": "ipython3",
   "version": "3.8.5"
  }
 },
 "nbformat": 4,
 "nbformat_minor": 4
}
